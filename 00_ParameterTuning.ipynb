{
 "cells": [
  {
   "cell_type": "code",
   "execution_count": 1,
   "id": "46e084ef-6f69-44ac-8c75-b86474e775d4",
   "metadata": {
    "collapsed": false,
    "gradient": {
     "editing": false,
     "id": "46e084ef-6f69-44ac-8c75-b86474e775d4",
     "kernelId": "",
     "source_hidden": false
    },
    "jupyter": {
     "outputs_hidden": false
    }
   },
   "outputs": [
    {
     "name": "stdout",
     "output_type": "stream",
     "text": [
      "\u001b[33mWARNING: The directory '/home/jovyan/.cache/pip' or its parent directory is not owned or is not writable by the current user. The cache has been disabled. Check the permissions and owner of that directory. If executing pip with sudo, you should use sudo's -H flag.\u001b[0m\n",
      "Requirement already satisfied: xgboost in /opt/conda/lib/python3.9/site-packages (1.5.1)\n",
      "Requirement already satisfied: sklearn in /opt/conda/lib/python3.9/site-packages (0.0)\n",
      "Requirement already satisfied: scipy in /opt/conda/lib/python3.9/site-packages (from xgboost) (1.7.2)\n",
      "Requirement already satisfied: numpy in /opt/conda/lib/python3.9/site-packages (from xgboost) (1.20.3)\n",
      "Requirement already satisfied: scikit-learn in /opt/conda/lib/python3.9/site-packages (from sklearn) (1.0.1)\n",
      "Requirement already satisfied: threadpoolctl>=2.0.0 in /opt/conda/lib/python3.9/site-packages (from scikit-learn->sklearn) (3.0.0)\n",
      "Requirement already satisfied: joblib>=0.11 in /opt/conda/lib/python3.9/site-packages (from scikit-learn->sklearn) (1.1.0)\n",
      "\u001b[33mWARNING: Running pip as the 'root' user can result in broken permissions and conflicting behaviour with the system package manager. It is recommended to use a virtual environment instead: https://pip.pypa.io/warnings/venv\u001b[0m\n"
     ]
    }
   ],
   "source": [
    "!pip install xgboost sklearn "
   ]
  },
  {
   "cell_type": "code",
   "execution_count": 2,
   "id": "68ab5a84-b414-4d4f-8b8e-28fc1ec0146d",
   "metadata": {
    "collapsed": false,
    "gradient": {
     "editing": false,
     "id": "68ab5a84-b414-4d4f-8b8e-28fc1ec0146d",
     "kernelId": "",
     "source_hidden": false
    },
    "jupyter": {
     "outputs_hidden": false
    }
   },
   "outputs": [],
   "source": [
    "import pandas as pd\n",
    "from sklearn.model_selection import train_test_split, GridSearchCV #RandomizedSearchCV\n",
    "from sklearn.preprocessing import OneHotEncoder\n",
    "#from sklearn.multioutput import MultiOutputClassifier\n",
    "from sklearn.multiclass import OneVsRestClassifier\n",
    "import xgboost as xgb\n",
    "from sklearn.compose import ColumnTransformer\n",
    "from sklearn.pipeline import Pipeline\n",
    "from sklearn.metrics import log_loss\n",
    "# from sklearn.decomposition import PCA\n",
    "from sklearn.feature_selection import SelectKBest\n",
    "import logging\n",
    "import time\n",
    "from tqdm import tqdm\n"
   ]
  },
  {
   "cell_type": "code",
   "execution_count": 3,
   "id": "700dda66-ec9e-4afe-8a9e-83729798b180",
   "metadata": {
    "collapsed": false,
    "gradient": {
     "editing": false,
     "id": "700dda66-ec9e-4afe-8a9e-83729798b180",
     "kernelId": "",
     "source_hidden": false
    },
    "jupyter": {
     "outputs_hidden": false
    }
   },
   "outputs": [
    {
     "name": "stderr",
     "output_type": "stream",
     "text": [
      "2021-12-08 11:24:16,864:INFO:start @ 2021-12-08 11:24:16\n"
     ]
    }
   ],
   "source": [
    "## configuration of logger\n",
    "logger = logging.getLogger(__name__)\n",
    "logger.setLevel(logging.INFO)\n",
    "\n",
    "formatter = logging.Formatter('%(asctime)s:%(levelname)s:%(message)s')\n",
    "\n",
    "file_handler = logging.FileHandler('hp_search_cl_kbest_18.log')\n",
    "file_handler.setFormatter(formatter)\n",
    "\n",
    "stream_handler = logging.StreamHandler()\n",
    "stream_handler.setFormatter(formatter)\n",
    "\n",
    "logger.addHandler(file_handler)\n",
    "logger.addHandler(stream_handler)\n",
    "\n",
    "logger.info(f'start @ {time.strftime(\"%Y-%m-%d %H:%M:%S\", time.localtime())}')\n",
    "start = time.perf_counter()"
   ]
  },
  {
   "cell_type": "code",
   "execution_count": 4,
   "id": "e2386153-e821-4856-a088-0ec2670644d6",
   "metadata": {
    "collapsed": false,
    "gradient": {
     "editing": false,
     "id": "e2386153-e821-4856-a088-0ec2670644d6",
     "kernelId": "",
     "source_hidden": false
    },
    "jupyter": {
     "outputs_hidden": false
    }
   },
   "outputs": [],
   "source": [
    "X_data = pd.read_csv('train_features.csv')\n",
    "y_data = pd.read_csv('train_targets_scored.csv')"
   ]
  },
  {
   "cell_type": "code",
   "execution_count": 5,
   "id": "fa037293-7eab-4cbf-82cc-7ddf86acfa7d",
   "metadata": {},
   "outputs": [],
   "source": [
    "# some labels are extremly uncommon. as such the samples belonging to these features will be oversampled\n",
    "def oversampling(X_data, y_data):\n",
    "    # new_y = X_data.copy()\n",
    "    # new_x = y_data.copy()\n",
    "    oversampling = list()\n",
    "    for label in tqdm(y_data.columns[1:]):\n",
    "        if y_data[label].sum()<20:\n",
    "            oversampling.extend(list(y_data.loc[y_data[label]==1, 'sig_id']))\n",
    "    oversampling_x = X_data[X_data['sig_id'].isin(oversampling)]\n",
    "    oversampling_y = y_data[y_data['sig_id'].isin(oversampling)]\n",
    "    new_x = pd.concat([X_data, oversampling_x, oversampling_x, oversampling_x, oversampling_x]).reset_index(drop=True)\n",
    "    new_y = pd.concat([y_data, oversampling_y, oversampling_y, oversampling_y, oversampling_y]).reset_index(drop=True)\n",
    "    return new_x, new_y\n",
    "\n",
    "# print(f'length data before oversampling: {len(X_data)}/{len(y_data)}')\n",
    "# X_data, y_data = oversampling(X_data, y_data)\n",
    "# print(f'length data after oversampling: {len(X_data)}/{len(y_data)}')"
   ]
  },
  {
   "cell_type": "code",
   "execution_count": 6,
   "id": "e35aea23-e7c4-4125-9621-08a650c210d3",
   "metadata": {
    "collapsed": false,
    "gradient": {
     "editing": false,
     "id": "e35aea23-e7c4-4125-9621-08a650c210d3",
     "kernelId": "",
     "source_hidden": false
    },
    "jupyter": {
     "outputs_hidden": false
    }
   },
   "outputs": [],
   "source": [
    "# delete all unneeded columns\n",
    "X_data.drop(columns=['sig_id', 'cp_type'], inplace=True) \n",
    "y_data.drop(columns=['sig_id'], inplace=True)\n",
    "\n",
    "X_train, X_test, y_train, y_test = train_test_split(X_data, y_data, \n",
    "                                                    test_size=0.2, \n",
    "                                                    random_state=174)"
   ]
  },
  {
   "cell_type": "code",
   "execution_count": 7,
   "id": "6cfe6116-defc-41cd-9ef4-a31fe9f5c0dd",
   "metadata": {
    "collapsed": false,
    "gradient": {
     "editing": false,
     "id": "6cfe6116-defc-41cd-9ef4-a31fe9f5c0dd",
     "kernelId": "",
     "source_hidden": false
    },
    "jupyter": {
     "outputs_hidden": false
    }
   },
   "outputs": [],
   "source": [
    "# Onehot encoding cp_type\n",
    "one_hot = OneHotEncoder()"
   ]
  },
  {
   "cell_type": "code",
   "execution_count": 8,
   "id": "c7874787-bbbc-44f7-917b-480de5270f5b",
   "metadata": {
    "collapsed": false,
    "gradient": {
     "editing": false,
     "id": "c7874787-bbbc-44f7-917b-480de5270f5b",
     "kernelId": "",
     "source_hidden": false
    },
    "jupyter": {
     "outputs_hidden": false
    }
   },
   "outputs": [],
   "source": [
    "kBest = SelectKBest(k=400)"
   ]
  },
  {
   "cell_type": "code",
   "execution_count": 9,
   "id": "32d5ea7f-f0f7-4a21-a95e-d050482b88a2",
   "metadata": {
    "collapsed": false,
    "gradient": {
     "editing": false,
     "id": "32d5ea7f-f0f7-4a21-a95e-d050482b88a2",
     "kernelId": "",
     "source_hidden": false
    },
    "jupyter": {
     "outputs_hidden": false
    }
   },
   "outputs": [],
   "source": [
    "preproc_transformer = ColumnTransformer([\n",
    "    ('onehot', one_hot, ['cp_dose']), \n",
    "    #('pca_genes', pca_genes, genes),\n",
    "    #('pca_cells', pca_cells, cell_lines)],\n",
    "], remainder='passthrough')\n"
   ]
  },
  {
   "cell_type": "code",
   "execution_count": 10,
   "id": "f86a5555-89be-4d38-acf8-71b346119a5a",
   "metadata": {
    "collapsed": false,
    "gradient": {
     "editing": false,
     "id": "f86a5555-89be-4d38-acf8-71b346119a5a",
     "kernelId": "",
     "source_hidden": false
    },
    "jupyter": {
     "outputs_hidden": false
    }
   },
   "outputs": [
    {
     "name": "stderr",
     "output_type": "stream",
     "text": [
      "2021-12-08 11:24:20,403:INFO:xgb.XGBClassifier(tree_method='gpu_hist', objective='binary:logistic', eval_metric='logloss', eta=0.1,colsample_bytree= 0.55, subsample= 0.95, scale_pos_weight=1, max_depth=7, min_child_weight=1, reg_alpha=1e-05,reg_lambda=0.5, gamma=0.25, n_estimators=2000, use_label_encoder=False)\n"
     ]
    }
   ],
   "source": [
    "## XGBoost MODEL\n",
    "model = xgb.XGBClassifier(tree_method='gpu_hist', \n",
    "                            objective='binary:logistic',\n",
    "                            eval_metric='logloss',\n",
    "                            eta=0.01,\n",
    "                            colsample_bytree= 0.55, \n",
    "                            subsample= 0.95,\n",
    "                            scale_pos_weight=1,\n",
    "                            max_depth=8,\n",
    "                            min_child_weight=1,\n",
    "                            reg_alpha=1e-05,\n",
    "                            reg_lambda=0.5,\n",
    "                            gamma=0.25,\n",
    "                            n_estimators=2000,\n",
    "                            use_label_encoder=False)\n",
    "\n",
    "logger.info(\"xgb.XGBClassifier(tree_method='gpu_hist', objective='binary:logistic', eval_metric='logloss', eta=0.1,\" \\\n",
    "            \"colsample_bytree= 0.55, subsample= 0.95, scale_pos_weight=1, max_depth=7, min_child_weight=1, reg_alpha=1e-05,\" \\\n",
    "            \"reg_lambda=0.5, gamma=0.25, n_estimators=2000, use_label_encoder=False)\")"
   ]
  },
  {
   "cell_type": "code",
   "execution_count": 11,
   "id": "f345041f-8f7f-4e84-adca-7d8dd8456073",
   "metadata": {
    "collapsed": false,
    "gradient": {
     "editing": false,
     "id": "f345041f-8f7f-4e84-adca-7d8dd8456073",
     "kernelId": "",
     "source_hidden": false
    },
    "jupyter": {
     "outputs_hidden": false
    }
   },
   "outputs": [],
   "source": [
    "cache_dir = '.' # cache transformers in the current directory\n",
    "preproc_pipe = Pipeline([\n",
    "    ('preproc', preproc_transformer),\n",
    "], memory=cache_dir)\n",
    "\n",
    "kBest_pipe = Pipeline([\n",
    "    ('kbest', kBest)\n",
    "], memory=cache_dir)"
   ]
  },
  {
   "cell_type": "code",
   "execution_count": 12,
   "id": "291b16e5-0607-426b-b8d8-18f20e8e34d0",
   "metadata": {
    "collapsed": false,
    "gradient": {
     "editing": false,
     "id": "291b16e5-0607-426b-b8d8-18f20e8e34d0",
     "kernelId": "",
     "source_hidden": false
    },
    "jupyter": {
     "outputs_hidden": false
    }
   },
   "outputs": [],
   "source": [
    "multi_pipe = OneVsRestClassifier(Pipeline([\n",
    "    ('kbest', kBest_pipe),\n",
    "    ('model', model)\n",
    "]))\n",
    "\n",
    "\n",
    "final_pipe = Pipeline([\n",
    "    ('preproc', preproc_pipe),\n",
    "    ('multi', multi_pipe)\n",
    "])\n"
   ]
  },
  {
   "cell_type": "code",
   "execution_count": 13,
   "id": "cb7670a2-b474-43c1-b6e7-d11825d9b650",
   "metadata": {
    "collapsed": false,
    "gradient": {
     "editing": false,
     "id": "cb7670a2-b474-43c1-b6e7-d11825d9b650",
     "kernelId": "",
     "source_hidden": false
    },
    "jupyter": {
     "outputs_hidden": false
    }
   },
   "outputs": [],
   "source": [
    "\n",
    "params = {#'multi__estimator__model__subsample' : [0.6, 0.75],\n",
    "          # 'multi__estimator__model__max_depth' : [6,7,8], #range(3,10,2)\n",
    "          # 'multi__estimator__model__min_child_weight' : [1,2,3], range(1,6,2)\n",
    "          # 'multi__estimator__model__max_delta_step' : [1, 8, 10], #might help in logistic regression when class is extremely imbalanced.\n",
    "          # 'multi__estimator__model__gamma' : [0.1, 0.15, 0.2, 0.25, 0.3], #[i/10.0 for i in range(0,5)]\n",
    "         # 'multi__estimator__model__subsample' : [i/100.0 for i in range(85,100,5)],#[i/10.0 for i in range(6,10)],\n",
    "         # 'multi__estimator__model__colsample_bytree' : [i/100.0 for i in range(55,80,5)], #[i/10.0 for i in range(6,10)],\n",
    "         'multi__estimator__model__reg_alpha':[5e-6, 1e-5, 5e-5, 1e-4], #[1e-5, 1e-2, 0.1, 1, 100],\n",
    "         'multi__estimator__model__reg_lambda':[0.01,0.05,0.1, 0.5],#[1e-5, 1e-2, 0.1, 1, 100],\n",
    "}\n"
   ]
  },
  {
   "cell_type": "code",
   "execution_count": 14,
   "id": "ff100dc1-8991-4a4d-8acd-6811c7d88653",
   "metadata": {
    "collapsed": false,
    "gradient": {
     "editing": false,
     "id": "ff100dc1-8991-4a4d-8acd-6811c7d88653",
     "kernelId": "",
     "source_hidden": false
    },
    "jupyter": {
     "outputs_hidden": false
    }
   },
   "outputs": [],
   "source": [
    "# logger.info('Training model')\n",
    "# search = GridSearchCV(final_pipe, \n",
    "#                             params, \n",
    "#                             cv=4, \n",
    "#                             #n_iter=30, \n",
    "#                             scoring='neg_log_loss', \n",
    "#                             verbose=4, \n",
    "#                             n_jobs=-1)\n",
    "# search.fit(X_train, y_train)"
   ]
  },
  {
   "cell_type": "code",
   "execution_count": 15,
   "id": "84c647df-2e62-4f08-ad22-fc043dc7b0f0",
   "metadata": {},
   "outputs": [
    {
     "name": "stderr",
     "output_type": "stream",
     "text": [
      "2021-12-08 11:24:20,424:INFO:Training model\n",
      "/opt/conda/lib/python3.9/site-packages/sklearn/multiclass.py:79: UserWarning: Label not 34 is present in all training examples.\n",
      "  warnings.warn(\n",
      "/opt/conda/lib/python3.9/site-packages/sklearn/multiclass.py:79: UserWarning: Label not 82 is present in all training examples.\n",
      "  warnings.warn(\n"
     ]
    },
    {
     "data": {
      "text/plain": [
       "Pipeline(steps=[('preproc',\n",
       "                 Pipeline(memory='.',\n",
       "                          steps=[('preproc',\n",
       "                                  ColumnTransformer(remainder='passthrough',\n",
       "                                                    transformers=[('onehot',\n",
       "                                                                   OneHotEncoder(),\n",
       "                                                                   ['cp_dose'])]))])),\n",
       "                ('multi',\n",
       "                 OneVsRestClassifier(estimator=Pipeline(steps=[('kbest',\n",
       "                                                                Pipeline(memory='.',\n",
       "                                                                         steps=[('kbest',\n",
       "                                                                                 SelectKBest(k=400))])),\n",
       "                                                               ('model',\n",
       "                                                                XGBClassifier(base_score=None,\n",
       "                                                                              booster=None,\n",
       "                                                                              colsample...\n",
       "                                                                              interaction_constraints=None,\n",
       "                                                                              learning_rate=None,\n",
       "                                                                              max_delta_step=None,\n",
       "                                                                              max_depth=8,\n",
       "                                                                              min_child_weight=1,\n",
       "                                                                              missing=nan,\n",
       "                                                                              monotone_constraints=None,\n",
       "                                                                              n_estimators=2000,\n",
       "                                                                              n_jobs=None,\n",
       "                                                                              num_parallel_tree=None,\n",
       "                                                                              predictor=None,\n",
       "                                                                              random_state=None,\n",
       "                                                                              reg_alpha=1e-05,\n",
       "                                                                              reg_lambda=0.5,\n",
       "                                                                              scale_pos_weight=1,\n",
       "                                                                              subsample=0.95,\n",
       "                                                                              tree_method='gpu_hist',\n",
       "                                                                              use_label_encoder=False,\n",
       "                                                                              validate_parameters=None, ...))])))])"
      ]
     },
     "execution_count": 15,
     "metadata": {},
     "output_type": "execute_result"
    }
   ],
   "source": [
    "logger.info('Training model')\n",
    "# search = GridSearchCV(final_pipe, \n",
    "#                             params, \n",
    "#                             cv=4, \n",
    "#                             #n_iter=30, \n",
    "#                             scoring='neg_log_loss', \n",
    "#                             verbose=4, \n",
    "#                             n_jobs=-1)\n",
    "final_pipe.fit(X_train, y_train)"
   ]
  },
  {
   "cell_type": "code",
   "execution_count": 16,
   "id": "abdc18df-ffd0-4837-8e35-f46d753d75cd",
   "metadata": {
    "collapsed": false,
    "gradient": {
     "editing": false,
     "id": "abdc18df-ffd0-4837-8e35-f46d753d75cd",
     "kernelId": "",
     "source_hidden": false
    },
    "jupyter": {
     "outputs_hidden": false
    }
   },
   "outputs": [],
   "source": [
    "# for k,i in params.items():\n",
    "#     logger.info(f'tested hyperparameters: {k}: {i}')\n",
    "\n",
    "# logger.info('Training model finished')"
   ]
  },
  {
   "cell_type": "code",
   "execution_count": 17,
   "id": "2eb2b971-0caf-4342-9ba3-4f90f917dcbf",
   "metadata": {
    "collapsed": false,
    "gradient": {
     "editing": false,
     "id": "2eb2b971-0caf-4342-9ba3-4f90f917dcbf",
     "kernelId": "",
     "source_hidden": false
    },
    "jupyter": {
     "outputs_hidden": false
    }
   },
   "outputs": [],
   "source": [
    "y_train_pred = final_pipe.predict_proba(X_train)\n",
    "y_test_pred = final_pipe.predict_proba(X_test)"
   ]
  },
  {
   "cell_type": "code",
   "execution_count": 18,
   "id": "4a5c7923-dd3e-43d5-a41a-38fbbdb3e2a9",
   "metadata": {
    "collapsed": false,
    "gradient": {
     "editing": false,
     "id": "4a5c7923-dd3e-43d5-a41a-38fbbdb3e2a9",
     "kernelId": "",
     "source_hidden": false
    },
    "jupyter": {
     "outputs_hidden": false
    }
   },
   "outputs": [
    {
     "name": "stderr",
     "output_type": "stream",
     "text": [
      "2021-12-08 11:49:14,088:INFO:training log loss: 0.17792004848370957\n",
      "2021-12-08 11:49:14,191:INFO:test log loss : 2.4962081165381416\n",
      "2021-12-08 11:49:14,192:INFO:runtime: 25.0 m\n"
     ]
    }
   ],
   "source": [
    "logger.info(f'training log loss: {log_loss(y_train, y_train_pred)}')\n",
    "logger.info(f'test log loss : {log_loss(y_test, y_test_pred)}')\n",
    "# logger.info(f'Best Params: {search.best_params_}')\n",
    "# logger.info(f'CV results: {search.cv_results_}')\n",
    "end = time.perf_counter()\n",
    "logger.info(f'runtime: {round((end-start)/60,1)} m')"
   ]
  }
 ],
 "metadata": {
  "kernelspec": {
   "display_name": "Python 3 (ipykernel)",
   "language": "python",
   "name": "python3"
  },
  "language_info": {
   "codemirror_mode": {
    "name": "ipython",
    "version": 3
   },
   "file_extension": ".py",
   "mimetype": "text/x-python",
   "name": "python",
   "nbconvert_exporter": "python",
   "pygments_lexer": "ipython3",
   "version": "3.9.7"
  }
 },
 "nbformat": 4,
 "nbformat_minor": 5
}
